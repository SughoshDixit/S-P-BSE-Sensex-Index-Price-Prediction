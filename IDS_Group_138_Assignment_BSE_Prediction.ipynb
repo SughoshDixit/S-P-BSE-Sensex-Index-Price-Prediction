{
 "cells": [
  {
   "cell_type": "markdown",
   "metadata": {
    "id": "_HhqRueGNnBC"
   },
   "source": [
    "<h1 style=\"font-family:verdana;\"> <center>📚 Introduction to Data Science Assignment Group 138📚</center> </h1>\n",
    "<p><center style=\"color:#159364; font-family:cursive;\">BSE Prediction</center></p>\n",
    "<p><center style=\"color:#159364; font-family:cursive;\">\n",
    " <table>\n",
    "  <tr>\n",
    "    <th>Name</th>\n",
    "    <th>Student No</th>\n",
    "  </tr>\n",
    "  <tr>\n",
    "    <td>Sughosh P Dixit</td>\n",
    "    <td>2021FA04058</td>\n",
    "  </tr>\n",
    "</table> \n",
    "</p>"
   ]
  },
  {
   "cell_type": "markdown",
   "metadata": {
    "id": "hqb_1-JaFzIv"
   },
   "source": [
    "![Stay Home](https://cdn.dribbble.com/users/5055/screenshots/3384210/media/f0167c09a5b9c70b17a9e3e84b61c6ea.jpg?compress=1&resize=800x600&vertical=top)\n",
    "<cite><center><b>Action Required</b></center></cite>"
   ]
  },
  {
   "cell_type": "markdown",
   "metadata": {
    "id": "7AQJN9ttN3Ax"
   },
   "source": [
    "<h4 style=\"font-family:verdana;\"> <center>🤔 What is the dependent variable?</center> </h4>"
   ]
  },
  {
   "cell_type": "markdown",
   "metadata": {},
   "source": [
    "<div style=\"font-family:verdana; word-spacing:1.5px;\">\n",
    "    <h5 id=\"emoji\">\n",
    "        Let's explore data before we make claims which is a dependent variable and which is independent\n",
    "        <br>\n",
    "    </h5>\n",
    "</div>"
   ]
  },
  {
   "cell_type": "code",
   "execution_count": 72,
   "metadata": {},
   "outputs": [],
   "source": [
    "# The aim of this analysis is to predict tips given set of parameters\n",
    "# Libraries are loaded first\n",
    "import numpy as np\n",
    "import pandas as pd\n",
    "import matplotlib.pyplot as plt\n",
    "import seaborn as sns\n",
    "from pandas_datareader import data as pdr\n",
    "import yfinance as yf\n",
    "\n",
    "yf.pdr_override()\n",
    "from sklearn.model_selection import train_test_split\n",
    "from sklearn.linear_model import LinearRegression\n",
    "from sklearn.metrics import r2_score, mean_absolute_error, mean_squared_error\n",
    "import warnings\n",
    "warnings.filterwarnings('ignore')\n",
    "\n",
    "df = pd.read_csv('BSE_Sensex_BSE30_Data.csv')"
   ]
  },
  {
   "cell_type": "code",
   "execution_count": 2,
   "metadata": {},
   "outputs": [
    {
     "data": {
      "text/html": [
       "<div>\n",
       "<style scoped>\n",
       "    .dataframe tbody tr th:only-of-type {\n",
       "        vertical-align: middle;\n",
       "    }\n",
       "\n",
       "    .dataframe tbody tr th {\n",
       "        vertical-align: top;\n",
       "    }\n",
       "\n",
       "    .dataframe thead th {\n",
       "        text-align: right;\n",
       "    }\n",
       "</style>\n",
       "<table border=\"1\" class=\"dataframe\">\n",
       "  <thead>\n",
       "    <tr style=\"text-align: right;\">\n",
       "      <th></th>\n",
       "      <th>Company</th>\n",
       "      <th>Date</th>\n",
       "      <th>Open Price</th>\n",
       "      <th>High Price</th>\n",
       "      <th>Low Price</th>\n",
       "      <th>Close Price</th>\n",
       "      <th>WAP</th>\n",
       "      <th>No.of Shares</th>\n",
       "      <th>No. of Trades</th>\n",
       "      <th>Total Turnover (Rs.)</th>\n",
       "      <th>Deliverable Quantity</th>\n",
       "      <th>% Deli. Qty to Traded Qty</th>\n",
       "      <th>Spread High-Low</th>\n",
       "      <th>Spread Close-Open</th>\n",
       "    </tr>\n",
       "  </thead>\n",
       "  <tbody>\n",
       "    <tr>\n",
       "      <th>0</th>\n",
       "      <td>ASIANPAINTS</td>\n",
       "      <td>09-06-2021</td>\n",
       "      <td>2936.00</td>\n",
       "      <td>2964.95</td>\n",
       "      <td>2920.40</td>\n",
       "      <td>2944.1</td>\n",
       "      <td>2950.193110</td>\n",
       "      <td>124701</td>\n",
       "      <td>6780</td>\n",
       "      <td>367892031.0</td>\n",
       "      <td>77662.0</td>\n",
       "      <td>62.28</td>\n",
       "      <td>44.55</td>\n",
       "      <td>8.10</td>\n",
       "    </tr>\n",
       "    <tr>\n",
       "      <th>1</th>\n",
       "      <td>ASIANPAINTS</td>\n",
       "      <td>08-06-2021</td>\n",
       "      <td>2922.70</td>\n",
       "      <td>2944.65</td>\n",
       "      <td>2906.90</td>\n",
       "      <td>2928.1</td>\n",
       "      <td>2925.331755</td>\n",
       "      <td>73054</td>\n",
       "      <td>4851</td>\n",
       "      <td>213707186.0</td>\n",
       "      <td>45761.0</td>\n",
       "      <td>62.64</td>\n",
       "      <td>37.75</td>\n",
       "      <td>5.40</td>\n",
       "    </tr>\n",
       "    <tr>\n",
       "      <th>2</th>\n",
       "      <td>ASIANPAINTS</td>\n",
       "      <td>07-06-2021</td>\n",
       "      <td>2930.00</td>\n",
       "      <td>2940.00</td>\n",
       "      <td>2904.55</td>\n",
       "      <td>2934.1</td>\n",
       "      <td>2917.421700</td>\n",
       "      <td>155798</td>\n",
       "      <td>2311</td>\n",
       "      <td>454528466.0</td>\n",
       "      <td>141076.0</td>\n",
       "      <td>90.55</td>\n",
       "      <td>35.45</td>\n",
       "      <td>4.10</td>\n",
       "    </tr>\n",
       "    <tr>\n",
       "      <th>3</th>\n",
       "      <td>ASIANPAINTS</td>\n",
       "      <td>04-06-2021</td>\n",
       "      <td>2946.25</td>\n",
       "      <td>2990.00</td>\n",
       "      <td>2909.25</td>\n",
       "      <td>2924.0</td>\n",
       "      <td>2944.749653</td>\n",
       "      <td>83656</td>\n",
       "      <td>3288</td>\n",
       "      <td>246345977.0</td>\n",
       "      <td>49730.0</td>\n",
       "      <td>59.45</td>\n",
       "      <td>80.75</td>\n",
       "      <td>-22.25</td>\n",
       "    </tr>\n",
       "    <tr>\n",
       "      <th>4</th>\n",
       "      <td>ASIANPAINTS</td>\n",
       "      <td>03-06-2021</td>\n",
       "      <td>2906.00</td>\n",
       "      <td>2941.95</td>\n",
       "      <td>2904.00</td>\n",
       "      <td>2934.9</td>\n",
       "      <td>2919.255570</td>\n",
       "      <td>47709</td>\n",
       "      <td>4583</td>\n",
       "      <td>139274764.0</td>\n",
       "      <td>20508.0</td>\n",
       "      <td>42.99</td>\n",
       "      <td>37.95</td>\n",
       "      <td>28.90</td>\n",
       "    </tr>\n",
       "  </tbody>\n",
       "</table>\n",
       "</div>"
      ],
      "text/plain": [
       "       Company        Date  Open Price  High Price  Low Price  Close Price  \\\n",
       "0  ASIANPAINTS  09-06-2021     2936.00     2964.95    2920.40       2944.1   \n",
       "1  ASIANPAINTS  08-06-2021     2922.70     2944.65    2906.90       2928.1   \n",
       "2  ASIANPAINTS  07-06-2021     2930.00     2940.00    2904.55       2934.1   \n",
       "3  ASIANPAINTS  04-06-2021     2946.25     2990.00    2909.25       2924.0   \n",
       "4  ASIANPAINTS  03-06-2021     2906.00     2941.95    2904.00       2934.9   \n",
       "\n",
       "           WAP  No.of Shares  No. of Trades  Total Turnover (Rs.)  \\\n",
       "0  2950.193110        124701           6780           367892031.0   \n",
       "1  2925.331755         73054           4851           213707186.0   \n",
       "2  2917.421700        155798           2311           454528466.0   \n",
       "3  2944.749653         83656           3288           246345977.0   \n",
       "4  2919.255570         47709           4583           139274764.0   \n",
       "\n",
       "   Deliverable Quantity  % Deli. Qty to Traded Qty  Spread High-Low  \\\n",
       "0               77662.0                      62.28            44.55   \n",
       "1               45761.0                      62.64            37.75   \n",
       "2              141076.0                      90.55            35.45   \n",
       "3               49730.0                      59.45            80.75   \n",
       "4               20508.0                      42.99            37.95   \n",
       "\n",
       "   Spread Close-Open  \n",
       "0               8.10  \n",
       "1               5.40  \n",
       "2               4.10  \n",
       "3             -22.25  \n",
       "4              28.90  "
      ]
     },
     "execution_count": 2,
     "metadata": {},
     "output_type": "execute_result"
    }
   ],
   "source": [
    "df.head(5)"
   ]
  },
  {
   "cell_type": "markdown",
   "metadata": {},
   "source": [
    "<ol>\n",
    "        <li>\n",
    "            <b>Company </b> - Company is a independent variable/feature\n",
    "        </li>\n",
    "        <li>\n",
    "            <b>Date </b> - Date on which we have all the other column derive data from which too is an independent variable\n",
    "        </li>\n",
    "        <li>\n",
    "            <b>Open Price </b> - The price at which the stock opens for the day\n",
    "        </li>\n",
    "        <li>\n",
    "            <b>High Price </b> - The highest price the stock fetched during that trading day\n",
    "        </li>\n",
    "        <li>\n",
    "            <b>Low Price </b> - The lowest price the stock fetched during that trading day\n",
    "        </li>\n",
    "        <li>\n",
    "            <b>Close Price </b> - The price at which the stock closed after the trading day\n",
    "        </li>\n",
    "        <li>\n",
    "            <b>WAP </b> - Weighted Average Price for the day\n",
    "        </li>\n",
    "        <li>\n",
    "            <b>No of Shares </b> - No. of shares traded throughout the day\n",
    "        </li>\n",
    "        <li>\n",
    "            <b>No of Trades </b> - The number of buy and sell trades happened throughout the day\n",
    "        </li>\n",
    "        <li>\n",
    "            <b>Total Turnover (Rs.) </b> - The total turnover based on the no of shares traded in that day\n",
    "        </li>\n",
    "        <li>\n",
    "            <b>Deliverable Quantity </b> - Deliverable quantity of shares is which actually move from one set of people (who had those shares in their demat\n",
    "        </li>\n",
    "    </ol>"
   ]
  },
  {
   "cell_type": "code",
   "execution_count": 3,
   "metadata": {},
   "outputs": [
    {
     "name": "stdout",
     "output_type": "stream",
     "text": [
      "<class 'pandas.core.frame.DataFrame'>\n",
      "RangeIndex: 77550 entries, 0 to 77549\n",
      "Data columns (total 14 columns):\n",
      " #   Column                     Non-Null Count  Dtype  \n",
      "---  ------                     --------------  -----  \n",
      " 0   Company                    77550 non-null  object \n",
      " 1   Date                       77550 non-null  object \n",
      " 2   Open Price                 77550 non-null  float64\n",
      " 3   High Price                 77550 non-null  float64\n",
      " 4   Low Price                  77550 non-null  float64\n",
      " 5   Close Price                77550 non-null  float64\n",
      " 6   WAP                        77550 non-null  float64\n",
      " 7   No.of Shares               77550 non-null  int64  \n",
      " 8   No. of Trades              77550 non-null  int64  \n",
      " 9   Total Turnover (Rs.)       77550 non-null  float64\n",
      " 10  Deliverable Quantity       77520 non-null  float64\n",
      " 11  % Deli. Qty to Traded Qty  77520 non-null  float64\n",
      " 12  Spread High-Low            77550 non-null  float64\n",
      " 13  Spread Close-Open          77550 non-null  float64\n",
      "dtypes: float64(10), int64(2), object(2)\n",
      "memory usage: 8.3+ MB\n"
     ]
    }
   ],
   "source": [
    "df.info()"
   ]
  },
  {
   "cell_type": "code",
   "execution_count": 4,
   "metadata": {},
   "outputs": [
    {
     "data": {
      "text/html": [
       "<div>\n",
       "<style scoped>\n",
       "    .dataframe tbody tr th:only-of-type {\n",
       "        vertical-align: middle;\n",
       "    }\n",
       "\n",
       "    .dataframe tbody tr th {\n",
       "        vertical-align: top;\n",
       "    }\n",
       "\n",
       "    .dataframe thead th {\n",
       "        text-align: right;\n",
       "    }\n",
       "</style>\n",
       "<table border=\"1\" class=\"dataframe\">\n",
       "  <thead>\n",
       "    <tr style=\"text-align: right;\">\n",
       "      <th></th>\n",
       "      <th>Open Price</th>\n",
       "      <th>High Price</th>\n",
       "      <th>Low Price</th>\n",
       "      <th>Close Price</th>\n",
       "      <th>WAP</th>\n",
       "      <th>No.of Shares</th>\n",
       "      <th>No. of Trades</th>\n",
       "      <th>Total Turnover (Rs.)</th>\n",
       "      <th>Deliverable Quantity</th>\n",
       "      <th>% Deli. Qty to Traded Qty</th>\n",
       "      <th>Spread High-Low</th>\n",
       "      <th>Spread Close-Open</th>\n",
       "    </tr>\n",
       "  </thead>\n",
       "  <tbody>\n",
       "    <tr>\n",
       "      <th>count</th>\n",
       "      <td>77550.000000</td>\n",
       "      <td>77550.000000</td>\n",
       "      <td>77550.000000</td>\n",
       "      <td>77550.000000</td>\n",
       "      <td>77550.000000</td>\n",
       "      <td>7.755000e+04</td>\n",
       "      <td>77550.000000</td>\n",
       "      <td>7.755000e+04</td>\n",
       "      <td>7.752000e+04</td>\n",
       "      <td>77520.000000</td>\n",
       "      <td>77550.000000</td>\n",
       "      <td>77550.000000</td>\n",
       "    </tr>\n",
       "    <tr>\n",
       "      <th>mean</th>\n",
       "      <td>1524.554520</td>\n",
       "      <td>1542.795752</td>\n",
       "      <td>1504.390718</td>\n",
       "      <td>1522.890123</td>\n",
       "      <td>1523.685145</td>\n",
       "      <td>3.573101e+05</td>\n",
       "      <td>6126.222424</td>\n",
       "      <td>2.461719e+08</td>\n",
       "      <td>1.607621e+05</td>\n",
       "      <td>35.556759</td>\n",
       "      <td>38.405034</td>\n",
       "      <td>-1.664397</td>\n",
       "    </tr>\n",
       "    <tr>\n",
       "      <th>std</th>\n",
       "      <td>2020.707802</td>\n",
       "      <td>2043.153068</td>\n",
       "      <td>1994.927133</td>\n",
       "      <td>2018.133986</td>\n",
       "      <td>2018.951727</td>\n",
       "      <td>2.982527e+06</td>\n",
       "      <td>7972.124506</td>\n",
       "      <td>3.317675e+09</td>\n",
       "      <td>2.816236e+06</td>\n",
       "      <td>18.594746</td>\n",
       "      <td>62.606059</td>\n",
       "      <td>44.313552</td>\n",
       "    </tr>\n",
       "    <tr>\n",
       "      <th>min</th>\n",
       "      <td>76.000000</td>\n",
       "      <td>79.100000</td>\n",
       "      <td>74.000000</td>\n",
       "      <td>76.200000</td>\n",
       "      <td>76.965548</td>\n",
       "      <td>3.900000e+01</td>\n",
       "      <td>4.000000</td>\n",
       "      <td>3.979300e+04</td>\n",
       "      <td>3.300000e+01</td>\n",
       "      <td>0.160000</td>\n",
       "      <td>0.550000</td>\n",
       "      <td>-1381.300000</td>\n",
       "    </tr>\n",
       "    <tr>\n",
       "      <th>25%</th>\n",
       "      <td>428.000000</td>\n",
       "      <td>434.000000</td>\n",
       "      <td>421.000000</td>\n",
       "      <td>427.112500</td>\n",
       "      <td>427.610724</td>\n",
       "      <td>4.413025e+04</td>\n",
       "      <td>1713.000000</td>\n",
       "      <td>4.142412e+07</td>\n",
       "      <td>1.194475e+04</td>\n",
       "      <td>22.280000</td>\n",
       "      <td>10.250000</td>\n",
       "      <td>-9.150000</td>\n",
       "    </tr>\n",
       "    <tr>\n",
       "      <th>50%</th>\n",
       "      <td>879.700000</td>\n",
       "      <td>890.000000</td>\n",
       "      <td>866.650000</td>\n",
       "      <td>878.425000</td>\n",
       "      <td>878.491202</td>\n",
       "      <td>1.195705e+05</td>\n",
       "      <td>3443.000000</td>\n",
       "      <td>1.013631e+08</td>\n",
       "      <td>3.580750e+04</td>\n",
       "      <td>31.600000</td>\n",
       "      <td>20.200000</td>\n",
       "      <td>-0.850000</td>\n",
       "    </tr>\n",
       "    <tr>\n",
       "      <th>75%</th>\n",
       "      <td>1689.800000</td>\n",
       "      <td>1708.000000</td>\n",
       "      <td>1668.162500</td>\n",
       "      <td>1686.250000</td>\n",
       "      <td>1687.615467</td>\n",
       "      <td>3.306492e+05</td>\n",
       "      <td>7338.750000</td>\n",
       "      <td>2.491327e+08</td>\n",
       "      <td>1.051470e+05</td>\n",
       "      <td>44.350000</td>\n",
       "      <td>40.750000</td>\n",
       "      <td>6.450000</td>\n",
       "    </tr>\n",
       "    <tr>\n",
       "      <th>max</th>\n",
       "      <td>18721.000000</td>\n",
       "      <td>18821.450000</td>\n",
       "      <td>18523.450000</td>\n",
       "      <td>18723.350000</td>\n",
       "      <td>18678.344710</td>\n",
       "      <td>3.973114e+08</td>\n",
       "      <td>197442.000000</td>\n",
       "      <td>5.100000e+11</td>\n",
       "      <td>3.968565e+08</td>\n",
       "      <td>99.990000</td>\n",
       "      <td>1950.000000</td>\n",
       "      <td>1523.300000</td>\n",
       "    </tr>\n",
       "  </tbody>\n",
       "</table>\n",
       "</div>"
      ],
      "text/plain": [
       "         Open Price    High Price     Low Price   Close Price           WAP  \\\n",
       "count  77550.000000  77550.000000  77550.000000  77550.000000  77550.000000   \n",
       "mean    1524.554520   1542.795752   1504.390718   1522.890123   1523.685145   \n",
       "std     2020.707802   2043.153068   1994.927133   2018.133986   2018.951727   \n",
       "min       76.000000     79.100000     74.000000     76.200000     76.965548   \n",
       "25%      428.000000    434.000000    421.000000    427.112500    427.610724   \n",
       "50%      879.700000    890.000000    866.650000    878.425000    878.491202   \n",
       "75%     1689.800000   1708.000000   1668.162500   1686.250000   1687.615467   \n",
       "max    18721.000000  18821.450000  18523.450000  18723.350000  18678.344710   \n",
       "\n",
       "       No.of Shares  No. of Trades  Total Turnover (Rs.)  \\\n",
       "count  7.755000e+04   77550.000000          7.755000e+04   \n",
       "mean   3.573101e+05    6126.222424          2.461719e+08   \n",
       "std    2.982527e+06    7972.124506          3.317675e+09   \n",
       "min    3.900000e+01       4.000000          3.979300e+04   \n",
       "25%    4.413025e+04    1713.000000          4.142412e+07   \n",
       "50%    1.195705e+05    3443.000000          1.013631e+08   \n",
       "75%    3.306492e+05    7338.750000          2.491327e+08   \n",
       "max    3.973114e+08  197442.000000          5.100000e+11   \n",
       "\n",
       "       Deliverable Quantity  % Deli. Qty to Traded Qty  Spread High-Low  \\\n",
       "count          7.752000e+04               77520.000000     77550.000000   \n",
       "mean           1.607621e+05                  35.556759        38.405034   \n",
       "std            2.816236e+06                  18.594746        62.606059   \n",
       "min            3.300000e+01                   0.160000         0.550000   \n",
       "25%            1.194475e+04                  22.280000        10.250000   \n",
       "50%            3.580750e+04                  31.600000        20.200000   \n",
       "75%            1.051470e+05                  44.350000        40.750000   \n",
       "max            3.968565e+08                  99.990000      1950.000000   \n",
       "\n",
       "       Spread Close-Open  \n",
       "count       77550.000000  \n",
       "mean           -1.664397  \n",
       "std            44.313552  \n",
       "min         -1381.300000  \n",
       "25%            -9.150000  \n",
       "50%            -0.850000  \n",
       "75%             6.450000  \n",
       "max          1523.300000  "
      ]
     },
     "execution_count": 4,
     "metadata": {},
     "output_type": "execute_result"
    }
   ],
   "source": [
    "df.describe()"
   ]
  },
  {
   "cell_type": "markdown",
   "metadata": {},
   "source": [
    "<h2 style=\"font-family:verdana;\"> <center style=\"color:#159364; font-family:cursive;\">(1) What is the dependent variable?</center> </h2>\n",
    "<ol>\n",
    "        <li>\n",
    "            <b>Open Price </b> - Dependent Variable\n",
    "        </li>\n",
    "        <li>\n",
    "            <b>High Price </b> - Dependent Variable\n",
    "        </li>\n",
    "        <li>\n",
    "            <b>Low Price </b> - Dependent Variable\n",
    "        </li>\n",
    "        <li>\n",
    "            <b>Close Price </b> - Dependent Variable\n",
    "        </li>\n",
    "        <li>\n",
    "            <b>WAP </b> - Dependent Variable\n",
    "        </li>\n",
    "        <li>\n",
    "            <b>No of Shares </b> - Dependent Variable\n",
    "        </li>\n",
    "        <li>\n",
    "            <b>No of Trades </b> - Dependent Variable\n",
    "        </li>\n",
    "        <li>\n",
    "            <b>Total Turnover (Rs.) </b> - Dependent Variable\n",
    "        </li>\n",
    "        <li>\n",
    "            <b>Deliverable Quantity </b> - Dependent Variable\n",
    "        </li>\n",
    "    </ol>"
   ]
  },
  {
   "cell_type": "markdown",
   "metadata": {},
   "source": [
    "<h2 style=\"font-family:verdana;\"> <center style=\"color:#159364; font-family:cursive;\"> (2) Choose the independent variables? [at least 2 variables] </center> </h2>\n",
    "<ol>\n",
    "        <li>\n",
    "            <b>Company </b> - Independent Variable/feature\n",
    "        </li>\n",
    "        <li>\n",
    "            <b>Date </b> - Independent Variable/feature       \n",
    "        </li>\n",
    "    </ol>"
   ]
  },
  {
   "cell_type": "markdown",
   "metadata": {},
   "source": [
    "<h2>To get overall data prediction let us consider summed RAW data of the BSE Index</h2>"
   ]
  },
  {
   "cell_type": "markdown",
   "metadata": {},
   "source": [
    "<h2 style=\"font-family:verdana;\"> <center style=\"color:#159364; font-family:cursive;\"> (3) Get data of last many years till June’2021. Prepare the data for Model building.\n",
    "     Justify your choice for granularity of data, length of data and any other considerations. \n",
    "     Present excel sheet for both the raw data and cleaned data.\n",
    " </center> </h2>"
   ]
  },
  {
   "cell_type": "markdown",
   "metadata": {},
   "source": [
    "<div style=\"font-family:verdana; word-spacing:1.5px;\">\n",
    "    <h3 id=\"emoji\">\n",
    "        We have last 10 year's data of the S&P Sensex Index with the above mentioned data points and features. Let us examine the raw data and further preprocess the data and reexamine and see the difference.\n",
    "        <br>\n",
    "    </h3>\n",
    "</div>\n",
    "<ul>\n",
    "    <li>\n",
    "        The S&P Sensex index has 30 listed companies whose last 10 years data is collected.\n",
    "    </li>\n",
    "    <li>\n",
    "         Each stock contains 13 columns which are listed above\n",
    "    </li>   \n",
    "    <li>\n",
    "        Granular data is detailed data, or the lowest level that data can be in a target set. It refers to the size that data fields are divided into, in short how detail-oriented a single field is. Since we are dealing with 13 columns pertaining to the stock of a company, it can be considered more granular since we are not considering handful of data points\n",
    "    </li>\n",
    "    <li>\n",
    "        There are two independent variables/features that are considered in the dataset namely Company and date\n",
    "    </li>\n",
    "</div>"
   ]
  },
  {
   "cell_type": "markdown",
   "metadata": {},
   "source": [
    " <div style=\"font-family:verdana; word-spacing:1.5px;\"><h3><center style=\"color:#159364; font-family:cursive;\">Data preprocess</center></h3></div>"
   ]
  },
  {
   "cell_type": "code",
   "execution_count": 143,
   "metadata": {},
   "outputs": [
    {
     "name": "stdout",
     "output_type": "stream",
     "text": [
      "[*********************100%***********************]  1 of 1 completed\n"
     ]
    },
    {
     "data": {
      "text/plain": [
       "Index(['Open', 'High', 'Low', 'Close', 'Adj Close', 'Volume'], dtype='object')"
      ]
     },
     "execution_count": 143,
     "metadata": {},
     "output_type": "execute_result"
    }
   ],
   "source": [
    "#new_df = pd.read_excel('BSE_Sensex_Raw_Data.xlsx')\n",
    "new_df = pdr.get_data_yahoo(\"%5EBSESN\", start=\"2011-01-01\", end=\"2021-08-03\")\n",
    "new_df.columns"
   ]
  },
  {
   "cell_type": "markdown",
   "metadata": {},
   "source": [
    "<div style=\"font-family:verdana; word-spacing:1.5px;\"><h4><b> Checking for null data </b></h4></div>"
   ]
  },
  {
   "cell_type": "code",
   "execution_count": 144,
   "metadata": {},
   "outputs": [
    {
     "data": {
      "text/plain": [
       "Open         0\n",
       "High         0\n",
       "Low          0\n",
       "Close        0\n",
       "Adj Close    0\n",
       "Volume       0\n",
       "dtype: int64"
      ]
     },
     "execution_count": 144,
     "metadata": {},
     "output_type": "execute_result"
    }
   ],
   "source": [
    "new_df.isnull().sum()"
   ]
  },
  {
   "cell_type": "code",
   "execution_count": 145,
   "metadata": {},
   "outputs": [
    {
     "data": {
      "text/plain": [
       "(2594, 6)"
      ]
     },
     "execution_count": 145,
     "metadata": {},
     "output_type": "execute_result"
    }
   ],
   "source": [
    "new_df.shape"
   ]
  },
  {
   "cell_type": "code",
   "execution_count": 147,
   "metadata": {},
   "outputs": [],
   "source": [
    "new_df.to_excel('BSE_Sensex_Processed_Data.xlsx', sheet_name='sheet1', index=False)"
   ]
  },
  {
   "cell_type": "code",
   "execution_count": 88,
   "metadata": {},
   "outputs": [
    {
     "data": {
      "image/png": "[encoded data removed]",
      "text/plain": [
       "<Figure size 864x720 with 2 Axes>"
      ]
     },
     "metadata": {
      "needs_background": "light"
     },
     "output_type": "display_data"
    }
   ],
   "source": [
    "plt.figure(figsize=(12,10))\n",
    "p = sns.heatmap(new_df.corr(), annot=True,cmap ='Blues')"
   ]
  },
  {
   "cell_type": "code",
   "execution_count": 90,
   "metadata": {},
   "outputs": [
    {
     "data": {
      "text/html": [
       "<div>\n",
       "<style scoped>\n",
       "    .dataframe tbody tr th:only-of-type {\n",
       "        vertical-align: middle;\n",
       "    }\n",
       "\n",
       "    .dataframe tbody tr th {\n",
       "        vertical-align: top;\n",
       "    }\n",
       "\n",
       "    .dataframe thead th {\n",
       "        text-align: right;\n",
       "    }\n",
       "</style>\n",
       "<table border=\"1\" class=\"dataframe\">\n",
       "  <thead>\n",
       "    <tr style=\"text-align: right;\">\n",
       "      <th></th>\n",
       "      <th>Open</th>\n",
       "      <th>High</th>\n",
       "      <th>Low</th>\n",
       "      <th>Close</th>\n",
       "      <th>Adj Close</th>\n",
       "      <th>Volume</th>\n",
       "    </tr>\n",
       "    <tr>\n",
       "      <th>Date</th>\n",
       "      <th></th>\n",
       "      <th></th>\n",
       "      <th></th>\n",
       "      <th></th>\n",
       "      <th></th>\n",
       "      <th></th>\n",
       "    </tr>\n",
       "  </thead>\n",
       "  <tbody>\n",
       "    <tr>\n",
       "      <th>2011-01-03</th>\n",
       "      <td>20621.609375</td>\n",
       "      <td>20664.800781</td>\n",
       "      <td>20531.000000</td>\n",
       "      <td>20561.050781</td>\n",
       "      <td>20561.050781</td>\n",
       "      <td>12000</td>\n",
       "    </tr>\n",
       "    <tr>\n",
       "      <th>2011-01-04</th>\n",
       "      <td>20617.380859</td>\n",
       "      <td>20651.210938</td>\n",
       "      <td>20449.009766</td>\n",
       "      <td>20498.720703</td>\n",
       "      <td>20498.720703</td>\n",
       "      <td>15200</td>\n",
       "    </tr>\n",
       "    <tr>\n",
       "      <th>2011-01-05</th>\n",
       "      <td>20509.949219</td>\n",
       "      <td>20509.949219</td>\n",
       "      <td>20243.949219</td>\n",
       "      <td>20301.099609</td>\n",
       "      <td>20301.099609</td>\n",
       "      <td>14400</td>\n",
       "    </tr>\n",
       "    <tr>\n",
       "      <th>2011-01-06</th>\n",
       "      <td>20395.500000</td>\n",
       "      <td>20425.849609</td>\n",
       "      <td>20107.169922</td>\n",
       "      <td>20184.740234</td>\n",
       "      <td>20184.740234</td>\n",
       "      <td>16600</td>\n",
       "    </tr>\n",
       "    <tr>\n",
       "      <th>2011-01-07</th>\n",
       "      <td>20163.849609</td>\n",
       "      <td>20210.619141</td>\n",
       "      <td>19629.220703</td>\n",
       "      <td>19691.810547</td>\n",
       "      <td>19691.810547</td>\n",
       "      <td>15800</td>\n",
       "    </tr>\n",
       "  </tbody>\n",
       "</table>\n",
       "</div>"
      ],
      "text/plain": [
       "                    Open          High           Low         Close  \\\n",
       "Date                                                                 \n",
       "2011-01-03  20621.609375  20664.800781  20531.000000  20561.050781   \n",
       "2011-01-04  20617.380859  20651.210938  20449.009766  20498.720703   \n",
       "2011-01-05  20509.949219  20509.949219  20243.949219  20301.099609   \n",
       "2011-01-06  20395.500000  20425.849609  20107.169922  20184.740234   \n",
       "2011-01-07  20163.849609  20210.619141  19629.220703  19691.810547   \n",
       "\n",
       "               Adj Close  Volume  \n",
       "Date                              \n",
       "2011-01-03  20561.050781   12000  \n",
       "2011-01-04  20498.720703   15200  \n",
       "2011-01-05  20301.099609   14400  \n",
       "2011-01-06  20184.740234   16600  \n",
       "2011-01-07  19691.810547   15800  "
      ]
     },
     "execution_count": 90,
     "metadata": {},
     "output_type": "execute_result"
    }
   ],
   "source": [
    "new_df.head()"
   ]
  },
  {
   "cell_type": "code",
   "execution_count": 91,
   "metadata": {},
   "outputs": [
    {
     "data": {
      "text/plain": [
       "array([[20561.05078125],\n",
       "       [20498.72070312],\n",
       "       [20301.09960938],\n",
       "       ...,\n",
       "       [52653.0703125 ],\n",
       "       [52586.83984375],\n",
       "       [52950.62890625]])"
      ]
     },
     "execution_count": 91,
     "metadata": {},
     "output_type": "execute_result"
    }
   ],
   "source": [
    "data=new_df.filter(['Close'])\n",
    "df_new=data.values\n",
    "df_new"
   ]
  },
  {
   "cell_type": "code",
   "execution_count": 93,
   "metadata": {},
   "outputs": [
    {
     "data": {
      "text/plain": [
       "Text(0.5, 1.0, 'Stock Graph of S&P BSE SENSEX')"
      ]
     },
     "execution_count": 93,
     "metadata": {},
     "output_type": "execute_result"
    },
    {
     "data": {
      "image/png": "[encoded data removed]",
      "text/plain": [
       "<Figure size 720x360 with 1 Axes>"
      ]
     },
     "metadata": {
      "needs_background": "light"
     },
     "output_type": "display_data"
    }
   ],
   "source": [
    "plt.figure(1,(10,5))\n",
    "graph=plt.plot(new_df['Close'])\n",
    "plt.xlabel(\"Year\")\n",
    "plt.ylabel(\"Closing price ($)\")\n",
    "plt.title(\"Stock Graph of S&P BSE SENSEX\")"
   ]
  },
  {
   "cell_type": "markdown",
   "metadata": {},
   "source": [
    "<h4><b>Min-max Normalization</b></h4>"
   ]
  },
  {
   "cell_type": "code",
   "execution_count": 139,
   "metadata": {},
   "outputs": [],
   "source": [
    " from sklearn.preprocessing import MinMaxScaler"
   ]
  },
  {
   "cell_type": "code",
   "execution_count": 148,
   "metadata": {},
   "outputs": [
    {
     "data": {
      "text/plain": [
       "array([[1.37152219e-01, 1.38034433e-01, 1.42497740e-01, 1.41796628e-01,\n",
       "        1.41796628e-01, 3.74037404e-04],\n",
       "       [1.37040378e-01, 1.37675395e-01, 1.40332194e-01, 1.40155662e-01,\n",
       "        1.40155662e-01, 4.74618890e-04],\n",
       "       [1.34198893e-01, 1.33943320e-01, 1.34916085e-01, 1.34952885e-01,\n",
       "        1.34952885e-01, 4.49473519e-04],\n",
       "       ...,\n",
       "       [9.85429985e-01, 9.86430138e-01, 9.88492206e-01, 9.86684280e-01,\n",
       "        9.86684280e-01, 2.73455917e-04],\n",
       "       [9.88043913e-01, 9.89945284e-01, 9.87766385e-01, 9.84940629e-01,\n",
       "        9.84940629e-01, 3.08030803e-04],\n",
       "       [9.90924813e-01, 9.91967414e-01, 9.94902128e-01, 9.94518115e-01,\n",
       "        9.94518115e-01, 2.45167374e-04]])"
      ]
     },
     "execution_count": 148,
     "metadata": {},
     "output_type": "execute_result"
    }
   ],
   "source": [
    "scaler=MinMaxScaler(feature_range=(0,1),copy=True)\n",
    "scaled_data=scaler.fit_transform(new_df)\n",
    "scaled_data"
   ]
  },
  {
   "cell_type": "code",
   "execution_count": 154,
   "metadata": {},
   "outputs": [],
   "source": [
    "output = pd.DataFrame(scaled_data)\n",
    "output.to_excel('BSE_Sensex_Processed_Data.xlsx', sheet_name='sheet1' )"
   ]
  },
  {
   "cell_type": "markdown",
   "metadata": {},
   "source": [
    "<div style=\"font-family:verdana; word-spacing:1.5px;\"><h4><b>Dividing dataset into train and test data</b></h4></div>"
   ]
  },
  {
   "cell_type": "code",
   "execution_count": 26,
   "metadata": {},
   "outputs": [
    {
     "name": "stdout",
     "output_type": "stream",
     "text": [
      "train_len= 2076\n",
      "test_len= 518\n"
     ]
    }
   ],
   "source": [
    "import math\n",
    "train_len=math.ceil(len(df_new)*0.8)\n",
    "test_len=len(data)-train_len\n",
    "print(\"train_len=\",train_len)\n",
    "print(\"test_len=\",test_len)"
   ]
  },
  {
   "cell_type": "code",
   "execution_count": 27,
   "metadata": {},
   "outputs": [],
   "source": [
    "train_data = scaled_data[0:train_len,:]"
   ]
  },
  {
   "cell_type": "code",
   "execution_count": 28,
   "metadata": {},
   "outputs": [
    {
     "data": {
      "text/plain": [
       "(2076, 1)"
      ]
     },
     "execution_count": 28,
     "metadata": {},
     "output_type": "execute_result"
    }
   ],
   "source": [
    "train_data.shape"
   ]
  },
  {
   "cell_type": "code",
   "execution_count": 29,
   "metadata": {},
   "outputs": [],
   "source": [
    "test_data=scaled_data[train_len-60:,:]"
   ]
  },
  {
   "cell_type": "code",
   "execution_count": 30,
   "metadata": {},
   "outputs": [
    {
     "data": {
      "text/plain": [
       "(578, 1)"
      ]
     },
     "execution_count": 30,
     "metadata": {},
     "output_type": "execute_result"
    }
   ],
   "source": [
    "test_data.shape"
   ]
  },
  {
   "cell_type": "markdown",
   "metadata": {},
   "source": [
    "<div style=\"font-family:verdana; word-spacing:1.5px;\"><h2><center style=\"color:#159364; font-family:cursive;\"> (4) Build Model using data till Mar’2021. Show code and describe the formula and present regression summary statistics and interpret it.</br> LSTM Model</center></h1></div>"
   ]
  },
  {
   "cell_type": "markdown",
   "metadata": {},
   "source": [
    "<div style=\"font-family:verdana; word-spacing:1.5px;\"><h4><b>Training model till March 2021</b><h4></div>"
   ]
  },
  {
   "cell_type": "code",
   "execution_count": 55,
   "metadata": {},
   "outputs": [
    {
     "name": "stdout",
     "output_type": "stream",
     "text": [
      "X_train [array([0.14179663, 0.14015566, 0.13495288, 0.13188949, 0.11891211,\n",
      "       0.10659918, 0.10586784, 0.11476005, 0.10551191, 0.09702458,\n",
      "       0.09759878, 0.10312222, 0.10012803, 0.10192403, 0.10089702,\n",
      "       0.10468153, 0.09989448, 0.09239076, 0.08479649, 0.0830007 ,\n",
      "       0.07495676, 0.07675749, 0.08620077, 0.07458634, 0.07535085,\n",
      "       0.06846659, 0.06365059, 0.06023517, 0.06722685, 0.07969507,\n",
      "       0.08158012, 0.08229357, 0.08771483, 0.07994044, 0.08591118,\n",
      "       0.08216878, 0.07906666, 0.06469421, 0.06649761, 0.06972242,\n",
      "       0.08612678, 0.08726568, 0.08717852, 0.080234  , 0.08594645,\n",
      "       0.08674413, 0.08300651, 0.07895503, 0.08594198, 0.07878524,\n",
      "       0.08381499, 0.07831737, 0.0711812 , 0.07013444, 0.07406375,\n",
      "       0.07979934, 0.08360571, 0.09584516, 0.09920185, 0.10387912])]\n",
      "y_train [0.10833836263646929]\n",
      "\n"
     ]
    }
   ],
   "source": [
    "X_train = []\n",
    "y_train = []\n",
    "for i in range(60,len(train_data)):                 \n",
    "  X_train.append(train_data[i-60:i,0])\n",
    "  y_train.append(train_data[i,0])\n",
    "  if i<=60:\n",
    "    print(\"X_train\",X_train)\n",
    "    print(\"y_train\",y_train)\n",
    "    print()"
   ]
  },
  {
   "cell_type": "code",
   "execution_count": 56,
   "metadata": {},
   "outputs": [
    {
     "data": {
      "text/plain": [
       "list"
      ]
     },
     "execution_count": 56,
     "metadata": {},
     "output_type": "execute_result"
    }
   ],
   "source": [
    "type(X_train)"
   ]
  },
  {
   "cell_type": "code",
   "execution_count": 57,
   "metadata": {},
   "outputs": [
    {
     "data": {
      "text/plain": [
       "list"
      ]
     },
     "execution_count": 57,
     "metadata": {},
     "output_type": "execute_result"
    }
   ],
   "source": [
    "type(y_train)"
   ]
  },
  {
   "cell_type": "code",
   "execution_count": 58,
   "metadata": {},
   "outputs": [
    {
     "data": {
      "text/plain": [
       "(2016, 60, 1)"
      ]
     },
     "execution_count": 58,
     "metadata": {},
     "output_type": "execute_result"
    }
   ],
   "source": [
    "X_train = np.array(X_train)     \n",
    "y_train = np.array(y_train)\n",
    "X_train=np.reshape(X_train,(X_train.shape[0],X_train.shape[1],1))\n",
    "X_train.shape"
   ]
  },
  {
   "cell_type": "code",
   "execution_count": 59,
   "metadata": {},
   "outputs": [],
   "source": [
    "X_test=[]\n",
    "y_test=df_new[train_len:,:]\n",
    "for i in range(60,len(test_data)):\n",
    "  X_test.append(test_data[i-60:i,0])"
   ]
  },
  {
   "cell_type": "code",
   "execution_count": 60,
   "metadata": {},
   "outputs": [
    {
     "data": {
      "text/plain": [
       "list"
      ]
     },
     "execution_count": 60,
     "metadata": {},
     "output_type": "execute_result"
    }
   ],
   "source": [
    "type(X_test)"
   ]
  },
  {
   "cell_type": "code",
   "execution_count": 61,
   "metadata": {},
   "outputs": [
    {
     "data": {
      "text/plain": [
       "numpy.ndarray"
      ]
     },
     "execution_count": 61,
     "metadata": {},
     "output_type": "execute_result"
    }
   ],
   "source": [
    "type(y_test)"
   ]
  },
  {
   "cell_type": "code",
   "execution_count": 62,
   "metadata": {},
   "outputs": [
    {
     "data": {
      "text/plain": [
       "(518, 60, 1)"
      ]
     },
     "execution_count": 62,
     "metadata": {},
     "output_type": "execute_result"
    }
   ],
   "source": [
    "X_test=np.array(X_test)\n",
    "X_test=np.reshape(X_test,(X_test.shape[0],X_test.shape[1],1))\n",
    "X_test.shape"
   ]
  },
  {
   "cell_type": "code",
   "execution_count": 63,
   "metadata": {},
   "outputs": [],
   "source": [
    "from keras.models import Sequential\n",
    "from keras.layers import Dense, LSTM\n",
    "model=Sequential()\n",
    "model.add(LSTM(50, return_sequences=True, input_shape=(X_train.shape[1],1)))\n",
    "model.add(LSTM(50, return_sequences=False))\n",
    "model.add(Dense(25))\n",
    "model.add(Dense(1))"
   ]
  },
  {
   "cell_type": "code",
   "execution_count": 64,
   "metadata": {},
   "outputs": [
    {
     "name": "stdout",
     "output_type": "stream",
     "text": [
      "Model: \"sequential_2\"\n",
      "_________________________________________________________________\n",
      " Layer (type)                Output Shape              Param #   \n",
      "=================================================================\n",
      " lstm_4 (LSTM)               (None, 60, 50)            10400     \n",
      "                                                                 \n",
      " lstm_5 (LSTM)               (None, 50)                20200     \n",
      "                                                                 \n",
      " dense_4 (Dense)             (None, 25)                1275      \n",
      "                                                                 \n",
      " dense_5 (Dense)             (None, 1)                 26        \n",
      "                                                                 \n",
      "=================================================================\n",
      "Total params: 31,901\n",
      "Trainable params: 31,901\n",
      "Non-trainable params: 0\n",
      "_________________________________________________________________\n"
     ]
    }
   ],
   "source": [
    "model.summary()"
   ]
  },
  {
   "cell_type": "code",
   "execution_count": 65,
   "metadata": {},
   "outputs": [],
   "source": [
    "model.compile(optimizer='adam',loss='mean_squared_error')"
   ]
  },
  {
   "cell_type": "code",
   "execution_count": 66,
   "metadata": {},
   "outputs": [
    {
     "name": "stdout",
     "output_type": "stream",
     "text": [
      "Epoch 1/5\n",
      "2016/2016 [==============================] - 32s 15ms/step - loss: 0.0010\n",
      "Epoch 2/5\n",
      "2016/2016 [==============================] - 29s 15ms/step - loss: 2.9195e-04\n",
      "Epoch 3/5\n",
      "2016/2016 [==============================] - 30s 15ms/step - loss: 2.2471e-04\n",
      "Epoch 4/5\n",
      "2016/2016 [==============================] - 30s 15ms/step - loss: 1.7045e-04\n",
      "Epoch 5/5\n",
      "2016/2016 [==============================] - 30s 15ms/step - loss: 1.3031e-04\n"
     ]
    },
    {
     "data": {
      "text/plain": [
       "<keras.callbacks.History at 0x14bbc2a9790>"
      ]
     },
     "execution_count": 66,
     "metadata": {},
     "output_type": "execute_result"
    }
   ],
   "source": [
    "model.fit(X_train,y_train,batch_size=1,epochs=5)"
   ]
  },
  {
   "cell_type": "markdown",
   "metadata": {},
   "source": [
    "<h2>Predictions</h2>"
   ]
  },
  {
   "cell_type": "code",
   "execution_count": 67,
   "metadata": {},
   "outputs": [
    {
     "name": "stdout",
     "output_type": "stream",
     "text": [
      "17/17 [==============================] - 1s 12ms/step\n"
     ]
    }
   ],
   "source": [
    "y_pred=model.predict(X_test)\n",
    "y_pred=scaler.inverse_transform(y_pred)"
   ]
  },
  {
   "cell_type": "code",
   "execution_count": 94,
   "metadata": {},
   "outputs": [
    {
     "data": {
      "image/png": "[encoded data removed]",
      "text/plain": [
       "<Figure size 1080x360 with 1 Axes>"
      ]
     },
     "metadata": {
      "needs_background": "light"
     },
     "output_type": "display_data"
    }
   ],
   "source": [
    "train=new_df[:train_len]\n",
    "validation=new_df[train_len:]\n",
    "validation['Predictions']=y_pred\n",
    "plt.figure(figsize=(15,5))\n",
    "plt.xlabel(\"DATE\")\n",
    "plt.ylabel(\"Closing Price($)\")\n",
    "plt.plot(new_df['Close'])\n",
    "plt.plot(validation[['Close','Predictions']])\n",
    "plt.legend(['Train','Valid','Predictions'])\n",
    "plt.show()"
   ]
  },
  {
   "cell_type": "code",
   "execution_count": 95,
   "metadata": {},
   "outputs": [
    {
     "name": "stdout",
     "output_type": "stream",
     "text": [
      "1/1 [==============================] - 0s 20ms/step\n",
      "[[51969.234]]\n"
     ]
    }
   ],
   "source": [
    "last_60_days=data[-60:].values\n",
    "last_60_days_scaled=scaler.transform(last_60_days)\n",
    "X_test=[]\n",
    "X_test.append(last_60_days_scaled)\n",
    "X_test=np.array(X_test)\n",
    "X_test=np.reshape(X_test,(X_test.shape[0],X_test.shape[1],1))\n",
    "pred_price=model.predict(X_test)\n",
    "pred_price=scaler.inverse_transform(pred_price)\n",
    "print(pred_price)"
   ]
  },
  {
   "cell_type": "code",
   "execution_count": 118,
   "metadata": {},
   "outputs": [
    {
     "name": "stdout",
     "output_type": "stream",
     "text": [
      "[*********************100%***********************]  1 of 1 completed\n"
     ]
    }
   ],
   "source": [
    "sample = pdr.get_data_yahoo(\"%5EBSESN\", start=\"2021-04-01\", end=\"2021-06-30\")"
   ]
  },
  {
   "cell_type": "markdown",
   "metadata": {},
   "source": [
    "<div style=\"font-family:verdana; word-spacing:1.5px;\"><h2><center style=\"color:#159364; font-family:cursive;\"> (6) Apply the model to predict index values for the Apr-Jun’2021 quarter and calculate a suitable metric to determine the prediction accuracy of the model.  </center></h1></div>"
   ]
  },
  {
   "cell_type": "markdown",
   "metadata": {},
   "source": [
    "<div style=\"font-family:verdana; word-spacing:1.5px;\"><h2><center style=\"color:#159364; font-family:cursive;\"> WOOHOO! Here we have predicted the close prices of a quarter from April to June 2021 using</br> LSTM Model</center></h1></div>"
   ]
  },
  {
   "cell_type": "code",
   "execution_count": 119,
   "metadata": {},
   "outputs": [
    {
     "data": {
      "text/html": [
       "<div>\n",
       "<style scoped>\n",
       "    .dataframe tbody tr th:only-of-type {\n",
       "        vertical-align: middle;\n",
       "    }\n",
       "\n",
       "    .dataframe tbody tr th {\n",
       "        vertical-align: top;\n",
       "    }\n",
       "\n",
       "    .dataframe thead th {\n",
       "        text-align: right;\n",
       "    }\n",
       "</style>\n",
       "<table border=\"1\" class=\"dataframe\">\n",
       "  <thead>\n",
       "    <tr style=\"text-align: right;\">\n",
       "      <th></th>\n",
       "      <th>Open</th>\n",
       "      <th>High</th>\n",
       "      <th>Low</th>\n",
       "      <th>Close</th>\n",
       "      <th>Adj Close</th>\n",
       "      <th>Volume</th>\n",
       "    </tr>\n",
       "    <tr>\n",
       "      <th>Date</th>\n",
       "      <th></th>\n",
       "      <th></th>\n",
       "      <th></th>\n",
       "      <th></th>\n",
       "      <th></th>\n",
       "      <th></th>\n",
       "    </tr>\n",
       "  </thead>\n",
       "  <tbody>\n",
       "    <tr>\n",
       "      <th>2021-04-01</th>\n",
       "      <td>49868.531250</td>\n",
       "      <td>50092.480469</td>\n",
       "      <td>49478.531250</td>\n",
       "      <td>50029.828125</td>\n",
       "      <td>50029.828125</td>\n",
       "      <td>8500</td>\n",
       "    </tr>\n",
       "    <tr>\n",
       "      <th>2021-04-05</th>\n",
       "      <td>50020.910156</td>\n",
       "      <td>50028.671875</td>\n",
       "      <td>48580.800781</td>\n",
       "      <td>49159.320312</td>\n",
       "      <td>49159.320312</td>\n",
       "      <td>12700</td>\n",
       "    </tr>\n",
       "    <tr>\n",
       "      <th>2021-04-06</th>\n",
       "      <td>49441.128906</td>\n",
       "      <td>49582.261719</td>\n",
       "      <td>48936.351562</td>\n",
       "      <td>49201.390625</td>\n",
       "      <td>49201.390625</td>\n",
       "      <td>9600</td>\n",
       "    </tr>\n",
       "    <tr>\n",
       "      <th>2021-04-07</th>\n",
       "      <td>49277.089844</td>\n",
       "      <td>49900.128906</td>\n",
       "      <td>49093.898438</td>\n",
       "      <td>49661.761719</td>\n",
       "      <td>49661.761719</td>\n",
       "      <td>9800</td>\n",
       "    </tr>\n",
       "    <tr>\n",
       "      <th>2021-04-08</th>\n",
       "      <td>49885.261719</td>\n",
       "      <td>50118.078125</td>\n",
       "      <td>49581.609375</td>\n",
       "      <td>49746.210938</td>\n",
       "      <td>49746.210938</td>\n",
       "      <td>21800</td>\n",
       "    </tr>\n",
       "    <tr>\n",
       "      <th>2021-04-09</th>\n",
       "      <td>49743.390625</td>\n",
       "      <td>49906.910156</td>\n",
       "      <td>49461.011719</td>\n",
       "      <td>49591.320312</td>\n",
       "      <td>49591.320312</td>\n",
       "      <td>8900</td>\n",
       "    </tr>\n",
       "    <tr>\n",
       "      <th>2021-04-12</th>\n",
       "      <td>48956.648438</td>\n",
       "      <td>48956.648438</td>\n",
       "      <td>47693.441406</td>\n",
       "      <td>47883.378906</td>\n",
       "      <td>47883.378906</td>\n",
       "      <td>19100</td>\n",
       "    </tr>\n",
       "    <tr>\n",
       "      <th>2021-04-13</th>\n",
       "      <td>47991.531250</td>\n",
       "      <td>48627.429688</td>\n",
       "      <td>47775.320312</td>\n",
       "      <td>48544.058594</td>\n",
       "      <td>48544.058594</td>\n",
       "      <td>10000</td>\n",
       "    </tr>\n",
       "    <tr>\n",
       "      <th>2021-04-15</th>\n",
       "      <td>48512.769531</td>\n",
       "      <td>48887.851562</td>\n",
       "      <td>48010.550781</td>\n",
       "      <td>48803.679688</td>\n",
       "      <td>48803.679688</td>\n",
       "      <td>16100</td>\n",
       "    </tr>\n",
       "    <tr>\n",
       "      <th>2021-04-16</th>\n",
       "      <td>48935.738281</td>\n",
       "      <td>49089.550781</td>\n",
       "      <td>48694.488281</td>\n",
       "      <td>48832.031250</td>\n",
       "      <td>48832.031250</td>\n",
       "      <td>11900</td>\n",
       "    </tr>\n",
       "    <tr>\n",
       "      <th>2021-04-19</th>\n",
       "      <td>47940.808594</td>\n",
       "      <td>48020.789062</td>\n",
       "      <td>47362.710938</td>\n",
       "      <td>47949.421875</td>\n",
       "      <td>47949.421875</td>\n",
       "      <td>10500</td>\n",
       "    </tr>\n",
       "    <tr>\n",
       "      <th>2021-04-20</th>\n",
       "      <td>48473.039062</td>\n",
       "      <td>48478.339844</td>\n",
       "      <td>47438.500000</td>\n",
       "      <td>47705.800781</td>\n",
       "      <td>47705.800781</td>\n",
       "      <td>11600</td>\n",
       "    </tr>\n",
       "    <tr>\n",
       "      <th>2021-04-22</th>\n",
       "      <td>47501.710938</td>\n",
       "      <td>48143.160156</td>\n",
       "      <td>47204.500000</td>\n",
       "      <td>48080.671875</td>\n",
       "      <td>48080.671875</td>\n",
       "      <td>15800</td>\n",
       "    </tr>\n",
       "    <tr>\n",
       "      <th>2021-04-23</th>\n",
       "      <td>47863.808594</td>\n",
       "      <td>48265.390625</td>\n",
       "      <td>47669.550781</td>\n",
       "      <td>47878.449219</td>\n",
       "      <td>47878.449219</td>\n",
       "      <td>11200</td>\n",
       "    </tr>\n",
       "    <tr>\n",
       "      <th>2021-04-26</th>\n",
       "      <td>48197.371094</td>\n",
       "      <td>48667.980469</td>\n",
       "      <td>48152.238281</td>\n",
       "      <td>48386.511719</td>\n",
       "      <td>48386.511719</td>\n",
       "      <td>15200</td>\n",
       "    </tr>\n",
       "    <tr>\n",
       "      <th>2021-04-27</th>\n",
       "      <td>48424.078125</td>\n",
       "      <td>49009.261719</td>\n",
       "      <td>48399.531250</td>\n",
       "      <td>48944.140625</td>\n",
       "      <td>48944.140625</td>\n",
       "      <td>10100</td>\n",
       "    </tr>\n",
       "    <tr>\n",
       "      <th>2021-04-28</th>\n",
       "      <td>49066.640625</td>\n",
       "      <td>49801.480469</td>\n",
       "      <td>49066.640625</td>\n",
       "      <td>49733.839844</td>\n",
       "      <td>49733.839844</td>\n",
       "      <td>14300</td>\n",
       "    </tr>\n",
       "    <tr>\n",
       "      <th>2021-04-29</th>\n",
       "      <td>50093.859375</td>\n",
       "      <td>50375.769531</td>\n",
       "      <td>49535.980469</td>\n",
       "      <td>49765.941406</td>\n",
       "      <td>49765.941406</td>\n",
       "      <td>13200</td>\n",
       "    </tr>\n",
       "    <tr>\n",
       "      <th>2021-04-30</th>\n",
       "      <td>49360.890625</td>\n",
       "      <td>49569.421875</td>\n",
       "      <td>48698.078125</td>\n",
       "      <td>48782.359375</td>\n",
       "      <td>48782.359375</td>\n",
       "      <td>19400</td>\n",
       "    </tr>\n",
       "    <tr>\n",
       "      <th>2021-05-03</th>\n",
       "      <td>48356.011719</td>\n",
       "      <td>48863.230469</td>\n",
       "      <td>48028.070312</td>\n",
       "      <td>48718.519531</td>\n",
       "      <td>48718.519531</td>\n",
       "      <td>14700</td>\n",
       "    </tr>\n",
       "    <tr>\n",
       "      <th>2021-05-04</th>\n",
       "      <td>48881.628906</td>\n",
       "      <td>48996.531250</td>\n",
       "      <td>48149.449219</td>\n",
       "      <td>48253.511719</td>\n",
       "      <td>48253.511719</td>\n",
       "      <td>13200</td>\n",
       "    </tr>\n",
       "    <tr>\n",
       "      <th>2021-05-05</th>\n",
       "      <td>48569.121094</td>\n",
       "      <td>48742.718750</td>\n",
       "      <td>48254.320312</td>\n",
       "      <td>48677.550781</td>\n",
       "      <td>48677.550781</td>\n",
       "      <td>12700</td>\n",
       "    </tr>\n",
       "    <tr>\n",
       "      <th>2021-05-06</th>\n",
       "      <td>48877.781250</td>\n",
       "      <td>49011.308594</td>\n",
       "      <td>48614.109375</td>\n",
       "      <td>48949.761719</td>\n",
       "      <td>48949.761719</td>\n",
       "      <td>9500</td>\n",
       "    </tr>\n",
       "    <tr>\n",
       "      <th>2021-05-10</th>\n",
       "      <td>49496.050781</td>\n",
       "      <td>49617.468750</td>\n",
       "      <td>49412.050781</td>\n",
       "      <td>49502.410156</td>\n",
       "      <td>49502.410156</td>\n",
       "      <td>12200</td>\n",
       "    </tr>\n",
       "    <tr>\n",
       "      <th>2021-05-11</th>\n",
       "      <td>49066.449219</td>\n",
       "      <td>49304.468750</td>\n",
       "      <td>48988.179688</td>\n",
       "      <td>49161.808594</td>\n",
       "      <td>49161.808594</td>\n",
       "      <td>15000</td>\n",
       "    </tr>\n",
       "    <tr>\n",
       "      <th>2021-05-12</th>\n",
       "      <td>49171.281250</td>\n",
       "      <td>49171.281250</td>\n",
       "      <td>48550.718750</td>\n",
       "      <td>48690.800781</td>\n",
       "      <td>48690.800781</td>\n",
       "      <td>17400</td>\n",
       "    </tr>\n",
       "    <tr>\n",
       "      <th>2021-05-14</th>\n",
       "      <td>48898.929688</td>\n",
       "      <td>48898.929688</td>\n",
       "      <td>48473.429688</td>\n",
       "      <td>48732.550781</td>\n",
       "      <td>48732.550781</td>\n",
       "      <td>18200</td>\n",
       "    </tr>\n",
       "    <tr>\n",
       "      <th>2021-05-17</th>\n",
       "      <td>48990.699219</td>\n",
       "      <td>49628.421875</td>\n",
       "      <td>48923.128906</td>\n",
       "      <td>49580.730469</td>\n",
       "      <td>49580.730469</td>\n",
       "      <td>20600</td>\n",
       "    </tr>\n",
       "    <tr>\n",
       "      <th>2021-05-18</th>\n",
       "      <td>49986.679688</td>\n",
       "      <td>50313.250000</td>\n",
       "      <td>49959.199219</td>\n",
       "      <td>50193.328125</td>\n",
       "      <td>50193.328125</td>\n",
       "      <td>14400</td>\n",
       "    </tr>\n",
       "    <tr>\n",
       "      <th>2021-05-19</th>\n",
       "      <td>50088.808594</td>\n",
       "      <td>50279.011719</td>\n",
       "      <td>49831.398438</td>\n",
       "      <td>49902.640625</td>\n",
       "      <td>49902.640625</td>\n",
       "      <td>13300</td>\n",
       "    </tr>\n",
       "    <tr>\n",
       "      <th>2021-05-20</th>\n",
       "      <td>49971.519531</td>\n",
       "      <td>50099.171875</td>\n",
       "      <td>49496.781250</td>\n",
       "      <td>49564.859375</td>\n",
       "      <td>49564.859375</td>\n",
       "      <td>8300</td>\n",
       "    </tr>\n",
       "    <tr>\n",
       "      <th>2021-05-21</th>\n",
       "      <td>49833.980469</td>\n",
       "      <td>50591.121094</td>\n",
       "      <td>49832.718750</td>\n",
       "      <td>50540.480469</td>\n",
       "      <td>50540.480469</td>\n",
       "      <td>18100</td>\n",
       "    </tr>\n",
       "    <tr>\n",
       "      <th>2021-05-24</th>\n",
       "      <td>50727.281250</td>\n",
       "      <td>50857.589844</td>\n",
       "      <td>50465.898438</td>\n",
       "      <td>50651.898438</td>\n",
       "      <td>50651.898438</td>\n",
       "      <td>16800</td>\n",
       "    </tr>\n",
       "    <tr>\n",
       "      <th>2021-05-25</th>\n",
       "      <td>50922.320312</td>\n",
       "      <td>50961.351562</td>\n",
       "      <td>50474.339844</td>\n",
       "      <td>50637.531250</td>\n",
       "      <td>50637.531250</td>\n",
       "      <td>10800</td>\n",
       "    </tr>\n",
       "    <tr>\n",
       "      <th>2021-05-26</th>\n",
       "      <td>50899.578125</td>\n",
       "      <td>51072.609375</td>\n",
       "      <td>50620.449219</td>\n",
       "      <td>51017.519531</td>\n",
       "      <td>51017.519531</td>\n",
       "      <td>9400</td>\n",
       "    </tr>\n",
       "    <tr>\n",
       "      <th>2021-05-27</th>\n",
       "      <td>51128.800781</td>\n",
       "      <td>51282.898438</td>\n",
       "      <td>50891.660156</td>\n",
       "      <td>51115.218750</td>\n",
       "      <td>51115.218750</td>\n",
       "      <td>12300</td>\n",
       "    </tr>\n",
       "    <tr>\n",
       "      <th>2021-05-28</th>\n",
       "      <td>51381.269531</td>\n",
       "      <td>51529.320312</td>\n",
       "      <td>51258.691406</td>\n",
       "      <td>51422.878906</td>\n",
       "      <td>51422.878906</td>\n",
       "      <td>15200</td>\n",
       "    </tr>\n",
       "    <tr>\n",
       "      <th>2021-05-31</th>\n",
       "      <td>51476.218750</td>\n",
       "      <td>52013.218750</td>\n",
       "      <td>51179.941406</td>\n",
       "      <td>51937.441406</td>\n",
       "      <td>51937.441406</td>\n",
       "      <td>15300</td>\n",
       "    </tr>\n",
       "    <tr>\n",
       "      <th>2021-06-01</th>\n",
       "      <td>52067.511719</td>\n",
       "      <td>52228.648438</td>\n",
       "      <td>51808.878906</td>\n",
       "      <td>51934.878906</td>\n",
       "      <td>51934.878906</td>\n",
       "      <td>13400</td>\n",
       "    </tr>\n",
       "    <tr>\n",
       "      <th>2021-06-02</th>\n",
       "      <td>51749.101562</td>\n",
       "      <td>51913.921875</td>\n",
       "      <td>51450.578125</td>\n",
       "      <td>51849.480469</td>\n",
       "      <td>51849.480469</td>\n",
       "      <td>13500</td>\n",
       "    </tr>\n",
       "    <tr>\n",
       "      <th>2021-06-03</th>\n",
       "      <td>52121.578125</td>\n",
       "      <td>52273.230469</td>\n",
       "      <td>51942.199219</td>\n",
       "      <td>52232.429688</td>\n",
       "      <td>52232.429688</td>\n",
       "      <td>15000</td>\n",
       "    </tr>\n",
       "    <tr>\n",
       "      <th>2021-06-04</th>\n",
       "      <td>52367.519531</td>\n",
       "      <td>52389.019531</td>\n",
       "      <td>51952.699219</td>\n",
       "      <td>52100.050781</td>\n",
       "      <td>52100.050781</td>\n",
       "      <td>16700</td>\n",
       "    </tr>\n",
       "    <tr>\n",
       "      <th>2021-06-07</th>\n",
       "      <td>52231.378906</td>\n",
       "      <td>52378.691406</td>\n",
       "      <td>52054.761719</td>\n",
       "      <td>52328.511719</td>\n",
       "      <td>52328.511719</td>\n",
       "      <td>19800</td>\n",
       "    </tr>\n",
       "    <tr>\n",
       "      <th>2021-06-08</th>\n",
       "      <td>52428.718750</td>\n",
       "      <td>52432.429688</td>\n",
       "      <td>52135.039062</td>\n",
       "      <td>52275.570312</td>\n",
       "      <td>52275.570312</td>\n",
       "      <td>12300</td>\n",
       "    </tr>\n",
       "    <tr>\n",
       "      <th>2021-06-09</th>\n",
       "      <td>52401.410156</td>\n",
       "      <td>52446.921875</td>\n",
       "      <td>51717.070312</td>\n",
       "      <td>51941.640625</td>\n",
       "      <td>51941.640625</td>\n",
       "      <td>15200</td>\n",
       "    </tr>\n",
       "    <tr>\n",
       "      <th>2021-06-10</th>\n",
       "      <td>52143.898438</td>\n",
       "      <td>52346.351562</td>\n",
       "      <td>51957.921875</td>\n",
       "      <td>52300.468750</td>\n",
       "      <td>52300.468750</td>\n",
       "      <td>8600</td>\n",
       "    </tr>\n",
       "    <tr>\n",
       "      <th>2021-06-11</th>\n",
       "      <td>52477.191406</td>\n",
       "      <td>52641.531250</td>\n",
       "      <td>52388.949219</td>\n",
       "      <td>52474.761719</td>\n",
       "      <td>52474.761719</td>\n",
       "      <td>8500</td>\n",
       "    </tr>\n",
       "    <tr>\n",
       "      <th>2021-06-14</th>\n",
       "      <td>52492.339844</td>\n",
       "      <td>52590.921875</td>\n",
       "      <td>51936.308594</td>\n",
       "      <td>52551.531250</td>\n",
       "      <td>52551.531250</td>\n",
       "      <td>9900</td>\n",
       "    </tr>\n",
       "    <tr>\n",
       "      <th>2021-06-15</th>\n",
       "      <td>52751.828125</td>\n",
       "      <td>52869.511719</td>\n",
       "      <td>52671.289062</td>\n",
       "      <td>52773.050781</td>\n",
       "      <td>52773.050781</td>\n",
       "      <td>16300</td>\n",
       "    </tr>\n",
       "    <tr>\n",
       "      <th>2021-06-16</th>\n",
       "      <td>52782.210938</td>\n",
       "      <td>52816.308594</td>\n",
       "      <td>52425.570312</td>\n",
       "      <td>52501.980469</td>\n",
       "      <td>52501.980469</td>\n",
       "      <td>12900</td>\n",
       "    </tr>\n",
       "    <tr>\n",
       "      <th>2021-06-17</th>\n",
       "      <td>52122.250000</td>\n",
       "      <td>52523.878906</td>\n",
       "      <td>52040.511719</td>\n",
       "      <td>52323.328125</td>\n",
       "      <td>52323.328125</td>\n",
       "      <td>8900</td>\n",
       "    </tr>\n",
       "    <tr>\n",
       "      <th>2021-06-18</th>\n",
       "      <td>52568.070312</td>\n",
       "      <td>52586.410156</td>\n",
       "      <td>51601.109375</td>\n",
       "      <td>52344.449219</td>\n",
       "      <td>52344.449219</td>\n",
       "      <td>11800</td>\n",
       "    </tr>\n",
       "    <tr>\n",
       "      <th>2021-06-21</th>\n",
       "      <td>51887.550781</td>\n",
       "      <td>52629.179688</td>\n",
       "      <td>51740.191406</td>\n",
       "      <td>52574.460938</td>\n",
       "      <td>52574.460938</td>\n",
       "      <td>12500</td>\n",
       "    </tr>\n",
       "    <tr>\n",
       "      <th>2021-06-22</th>\n",
       "      <td>52885.039062</td>\n",
       "      <td>53057.109375</td>\n",
       "      <td>52520.550781</td>\n",
       "      <td>52588.710938</td>\n",
       "      <td>52588.710938</td>\n",
       "      <td>7700</td>\n",
       "    </tr>\n",
       "    <tr>\n",
       "      <th>2021-06-23</th>\n",
       "      <td>52912.351562</td>\n",
       "      <td>52912.351562</td>\n",
       "      <td>52264.121094</td>\n",
       "      <td>52306.078125</td>\n",
       "      <td>52306.078125</td>\n",
       "      <td>13600</td>\n",
       "    </tr>\n",
       "    <tr>\n",
       "      <th>2021-06-24</th>\n",
       "      <td>52514.570312</td>\n",
       "      <td>52830.679688</td>\n",
       "      <td>52385.050781</td>\n",
       "      <td>52699.000000</td>\n",
       "      <td>52699.000000</td>\n",
       "      <td>7900</td>\n",
       "    </tr>\n",
       "    <tr>\n",
       "      <th>2021-06-25</th>\n",
       "      <td>52877.160156</td>\n",
       "      <td>52973.070312</td>\n",
       "      <td>52614.488281</td>\n",
       "      <td>52925.039062</td>\n",
       "      <td>52925.039062</td>\n",
       "      <td>10700</td>\n",
       "    </tr>\n",
       "    <tr>\n",
       "      <th>2021-06-28</th>\n",
       "      <td>53126.730469</td>\n",
       "      <td>53126.730469</td>\n",
       "      <td>52673.500000</td>\n",
       "      <td>52735.589844</td>\n",
       "      <td>52735.589844</td>\n",
       "      <td>6200</td>\n",
       "    </tr>\n",
       "    <tr>\n",
       "      <th>2021-06-29</th>\n",
       "      <td>52795.761719</td>\n",
       "      <td>52816.421875</td>\n",
       "      <td>52477.769531</td>\n",
       "      <td>52549.660156</td>\n",
       "      <td>52549.660156</td>\n",
       "      <td>9200</td>\n",
       "    </tr>\n",
       "  </tbody>\n",
       "</table>\n",
       "</div>"
      ],
      "text/plain": [
       "                    Open          High           Low         Close  \\\n",
       "Date                                                                 \n",
       "2021-04-01  49868.531250  50092.480469  49478.531250  50029.828125   \n",
       "2021-04-05  50020.910156  50028.671875  48580.800781  49159.320312   \n",
       "2021-04-06  49441.128906  49582.261719  48936.351562  49201.390625   \n",
       "2021-04-07  49277.089844  49900.128906  49093.898438  49661.761719   \n",
       "2021-04-08  49885.261719  50118.078125  49581.609375  49746.210938   \n",
       "2021-04-09  49743.390625  49906.910156  49461.011719  49591.320312   \n",
       "2021-04-12  48956.648438  48956.648438  47693.441406  47883.378906   \n",
       "2021-04-13  47991.531250  48627.429688  47775.320312  48544.058594   \n",
       "2021-04-15  48512.769531  48887.851562  48010.550781  48803.679688   \n",
       "2021-04-16  48935.738281  49089.550781  48694.488281  48832.031250   \n",
       "2021-04-19  47940.808594  48020.789062  47362.710938  47949.421875   \n",
       "2021-04-20  48473.039062  48478.339844  47438.500000  47705.800781   \n",
       "2021-04-22  47501.710938  48143.160156  47204.500000  48080.671875   \n",
       "2021-04-23  47863.808594  48265.390625  47669.550781  47878.449219   \n",
       "2021-04-26  48197.371094  48667.980469  48152.238281  48386.511719   \n",
       "2021-04-27  48424.078125  49009.261719  48399.531250  48944.140625   \n",
       "2021-04-28  49066.640625  49801.480469  49066.640625  49733.839844   \n",
       "2021-04-29  50093.859375  50375.769531  49535.980469  49765.941406   \n",
       "2021-04-30  49360.890625  49569.421875  48698.078125  48782.359375   \n",
       "2021-05-03  48356.011719  48863.230469  48028.070312  48718.519531   \n",
       "2021-05-04  48881.628906  48996.531250  48149.449219  48253.511719   \n",
       "2021-05-05  48569.121094  48742.718750  48254.320312  48677.550781   \n",
       "2021-05-06  48877.781250  49011.308594  48614.109375  48949.761719   \n",
       "2021-05-10  49496.050781  49617.468750  49412.050781  49502.410156   \n",
       "2021-05-11  49066.449219  49304.468750  48988.179688  49161.808594   \n",
       "2021-05-12  49171.281250  49171.281250  48550.718750  48690.800781   \n",
       "2021-05-14  48898.929688  48898.929688  48473.429688  48732.550781   \n",
       "2021-05-17  48990.699219  49628.421875  48923.128906  49580.730469   \n",
       "2021-05-18  49986.679688  50313.250000  49959.199219  50193.328125   \n",
       "2021-05-19  50088.808594  50279.011719  49831.398438  49902.640625   \n",
       "2021-05-20  49971.519531  50099.171875  49496.781250  49564.859375   \n",
       "2021-05-21  49833.980469  50591.121094  49832.718750  50540.480469   \n",
       "2021-05-24  50727.281250  50857.589844  50465.898438  50651.898438   \n",
       "2021-05-25  50922.320312  50961.351562  50474.339844  50637.531250   \n",
       "2021-05-26  50899.578125  51072.609375  50620.449219  51017.519531   \n",
       "2021-05-27  51128.800781  51282.898438  50891.660156  51115.218750   \n",
       "2021-05-28  51381.269531  51529.320312  51258.691406  51422.878906   \n",
       "2021-05-31  51476.218750  52013.218750  51179.941406  51937.441406   \n",
       "2021-06-01  52067.511719  52228.648438  51808.878906  51934.878906   \n",
       "2021-06-02  51749.101562  51913.921875  51450.578125  51849.480469   \n",
       "2021-06-03  52121.578125  52273.230469  51942.199219  52232.429688   \n",
       "2021-06-04  52367.519531  52389.019531  51952.699219  52100.050781   \n",
       "2021-06-07  52231.378906  52378.691406  52054.761719  52328.511719   \n",
       "2021-06-08  52428.718750  52432.429688  52135.039062  52275.570312   \n",
       "2021-06-09  52401.410156  52446.921875  51717.070312  51941.640625   \n",
       "2021-06-10  52143.898438  52346.351562  51957.921875  52300.468750   \n",
       "2021-06-11  52477.191406  52641.531250  52388.949219  52474.761719   \n",
       "2021-06-14  52492.339844  52590.921875  51936.308594  52551.531250   \n",
       "2021-06-15  52751.828125  52869.511719  52671.289062  52773.050781   \n",
       "2021-06-16  52782.210938  52816.308594  52425.570312  52501.980469   \n",
       "2021-06-17  52122.250000  52523.878906  52040.511719  52323.328125   \n",
       "2021-06-18  52568.070312  52586.410156  51601.109375  52344.449219   \n",
       "2021-06-21  51887.550781  52629.179688  51740.191406  52574.460938   \n",
       "2021-06-22  52885.039062  53057.109375  52520.550781  52588.710938   \n",
       "2021-06-23  52912.351562  52912.351562  52264.121094  52306.078125   \n",
       "2021-06-24  52514.570312  52830.679688  52385.050781  52699.000000   \n",
       "2021-06-25  52877.160156  52973.070312  52614.488281  52925.039062   \n",
       "2021-06-28  53126.730469  53126.730469  52673.500000  52735.589844   \n",
       "2021-06-29  52795.761719  52816.421875  52477.769531  52549.660156   \n",
       "\n",
       "               Adj Close  Volume  \n",
       "Date                              \n",
       "2021-04-01  50029.828125    8500  \n",
       "2021-04-05  49159.320312   12700  \n",
       "2021-04-06  49201.390625    9600  \n",
       "2021-04-07  49661.761719    9800  \n",
       "2021-04-08  49746.210938   21800  \n",
       "2021-04-09  49591.320312    8900  \n",
       "2021-04-12  47883.378906   19100  \n",
       "2021-04-13  48544.058594   10000  \n",
       "2021-04-15  48803.679688   16100  \n",
       "2021-04-16  48832.031250   11900  \n",
       "2021-04-19  47949.421875   10500  \n",
       "2021-04-20  47705.800781   11600  \n",
       "2021-04-22  48080.671875   15800  \n",
       "2021-04-23  47878.449219   11200  \n",
       "2021-04-26  48386.511719   15200  \n",
       "2021-04-27  48944.140625   10100  \n",
       "2021-04-28  49733.839844   14300  \n",
       "2021-04-29  49765.941406   13200  \n",
       "2021-04-30  48782.359375   19400  \n",
       "2021-05-03  48718.519531   14700  \n",
       "2021-05-04  48253.511719   13200  \n",
       "2021-05-05  48677.550781   12700  \n",
       "2021-05-06  48949.761719    9500  \n",
       "2021-05-10  49502.410156   12200  \n",
       "2021-05-11  49161.808594   15000  \n",
       "2021-05-12  48690.800781   17400  \n",
       "2021-05-14  48732.550781   18200  \n",
       "2021-05-17  49580.730469   20600  \n",
       "2021-05-18  50193.328125   14400  \n",
       "2021-05-19  49902.640625   13300  \n",
       "2021-05-20  49564.859375    8300  \n",
       "2021-05-21  50540.480469   18100  \n",
       "2021-05-24  50651.898438   16800  \n",
       "2021-05-25  50637.531250   10800  \n",
       "2021-05-26  51017.519531    9400  \n",
       "2021-05-27  51115.218750   12300  \n",
       "2021-05-28  51422.878906   15200  \n",
       "2021-05-31  51937.441406   15300  \n",
       "2021-06-01  51934.878906   13400  \n",
       "2021-06-02  51849.480469   13500  \n",
       "2021-06-03  52232.429688   15000  \n",
       "2021-06-04  52100.050781   16700  \n",
       "2021-06-07  52328.511719   19800  \n",
       "2021-06-08  52275.570312   12300  \n",
       "2021-06-09  51941.640625   15200  \n",
       "2021-06-10  52300.468750    8600  \n",
       "2021-06-11  52474.761719    8500  \n",
       "2021-06-14  52551.531250    9900  \n",
       "2021-06-15  52773.050781   16300  \n",
       "2021-06-16  52501.980469   12900  \n",
       "2021-06-17  52323.328125    8900  \n",
       "2021-06-18  52344.449219   11800  \n",
       "2021-06-21  52574.460938   12500  \n",
       "2021-06-22  52588.710938    7700  \n",
       "2021-06-23  52306.078125   13600  \n",
       "2021-06-24  52699.000000    7900  \n",
       "2021-06-25  52925.039062   10700  \n",
       "2021-06-28  52735.589844    6200  \n",
       "2021-06-29  52549.660156    9200  "
      ]
     },
     "execution_count": 119,
     "metadata": {},
     "output_type": "execute_result"
    }
   ],
   "source": [
    "sample"
   ]
  },
  {
   "cell_type": "markdown",
   "metadata": {},
   "source": [
    "<div style=\"font-family:verdana; word-spacing:1.5px;\"><h2><center style=\"color:#159364; font-family:cursive;\"> We have used 3 classifiers namely RandomForest, Adaboost and XGboost.  </center></h1></div>"
   ]
  },
  {
   "cell_type": "code",
   "execution_count": 157,
   "metadata": {},
   "outputs": [],
   "source": [
    "from sklearn.metrics import mean_squared_error\n",
    "from sklearn.ensemble import RandomForestRegressor\n",
    "md=new_df['Close'].median()\n",
    "new_df['Close'].fillna(value=md,inplace=True)"
   ]
  },
  {
   "cell_type": "code",
   "execution_count": 104,
   "metadata": {},
   "outputs": [
    {
     "data": {
      "text/plain": [
       "0"
      ]
     },
     "execution_count": 104,
     "metadata": {},
     "output_type": "execute_result"
    }
   ],
   "source": [
    "new_df['Close'].isnull().sum()"
   ]
  },
  {
   "cell_type": "code",
   "execution_count": 105,
   "metadata": {},
   "outputs": [],
   "source": [
    "X=new_df.drop('Close',axis=1)\n",
    "y=new_df['Close']"
   ]
  },
  {
   "cell_type": "code",
   "execution_count": 106,
   "metadata": {},
   "outputs": [
    {
     "name": "stdout",
     "output_type": "stream",
     "text": [
      "(2594, 5) (2594,)\n"
     ]
    }
   ],
   "source": [
    "print(X.shape,y.shape)"
   ]
  },
  {
   "cell_type": "code",
   "execution_count": 107,
   "metadata": {},
   "outputs": [],
   "source": [
    "from sklearn.model_selection import train_test_split"
   ]
  },
  {
   "cell_type": "code",
   "execution_count": 108,
   "metadata": {},
   "outputs": [
    {
     "data": {
      "text/plain": [
       "(2075, 5)"
      ]
     },
     "execution_count": 108,
     "metadata": {},
     "output_type": "execute_result"
    }
   ],
   "source": [
    "X_train,X_test,y_train,y_test = train_test_split(X,y,test_size = 0.2,random_state=0)\n",
    "X_train.shape"
   ]
  },
  {
   "cell_type": "code",
   "execution_count": 109,
   "metadata": {},
   "outputs": [
    {
     "data": {
      "text/plain": [
       "0"
      ]
     },
     "execution_count": 109,
     "metadata": {},
     "output_type": "execute_result"
    }
   ],
   "source": [
    "y_train.isnull().sum()"
   ]
  },
  {
   "cell_type": "code",
   "execution_count": 110,
   "metadata": {},
   "outputs": [],
   "source": [
    "rf = RandomForestRegressor()\n",
    "rf.fit(X_train,y_train)\n",
    "pred = rf.predict(X_test)"
   ]
  },
  {
   "cell_type": "code",
   "execution_count": null,
   "metadata": {},
   "outputs": [],
   "source": [
    "print('Mean Squared Error',mean_squared_error(y_test,pred))"
   ]
  },
  {
   "cell_type": "code",
   "execution_count": 131,
   "metadata": {},
   "outputs": [
    {
     "name": "stdout",
     "output_type": "stream",
     "text": [
      "Collecting xgboost\n",
      "  Downloading xgboost-1.6.2-py3-none-win_amd64.whl (125.4 MB)\n",
      "     -------------------------------------- 125.4/125.4 MB 7.2 MB/s eta 0:00:00\n",
      "Requirement already satisfied: numpy in c:\\users\\win10\\anaconda3\\lib\\site-packages (from xgboost) (1.23.2)\n",
      "Requirement already satisfied: scipy in c:\\users\\win10\\anaconda3\\lib\\site-packages (from xgboost) (1.9.1)\n",
      "Installing collected packages: xgboost\n",
      "Successfully installed xgboost-1.6.2\n"
     ]
    }
   ],
   "source": [
    "!pip install xgboost"
   ]
  },
  {
   "cell_type": "code",
   "execution_count": 132,
   "metadata": {},
   "outputs": [],
   "source": [
    "import xgboost"
   ]
  },
  {
   "cell_type": "code",
   "execution_count": 133,
   "metadata": {},
   "outputs": [
    {
     "data": {
      "text/html": [
       "<style>#sk-container-id-1 {color: black;background-color: white;}#sk-container-id-1 pre{padding: 0;}#sk-container-id-1 div.sk-toggleable {background-color: white;}#sk-container-id-1 label.sk-toggleable__label {cursor: pointer;display: block;width: 100%;margin-bottom: 0;padding: 0.3em;box-sizing: border-box;text-align: center;}#sk-container-id-1 label.sk-toggleable__label-arrow:before {content: \"▸\";float: left;margin-right: 0.25em;color: #696969;}#sk-container-id-1 label.sk-toggleable__label-arrow:hover:before {color: black;}#sk-container-id-1 div.sk-estimator:hover label.sk-toggleable__label-arrow:before {color: black;}#sk-container-id-1 div.sk-toggleable__content {max-height: 0;max-width: 0;overflow: hidden;text-align: left;background-color: #f0f8ff;}#sk-container-id-1 div.sk-toggleable__content pre {margin: 0.2em;color: black;border-radius: 0.25em;background-color: #f0f8ff;}#sk-container-id-1 input.sk-toggleable__control:checked~div.sk-toggleable__content {max-height: 200px;max-width: 100%;overflow: auto;}#sk-container-id-1 input.sk-toggleable__control:checked~label.sk-toggleable__label-arrow:before {content: \"▾\";}#sk-container-id-1 div.sk-estimator input.sk-toggleable__control:checked~label.sk-toggleable__label {background-color: #d4ebff;}#sk-container-id-1 div.sk-label input.sk-toggleable__control:checked~label.sk-toggleable__label {background-color: #d4ebff;}#sk-container-id-1 input.sk-hidden--visually {border: 0;clip: rect(1px 1px 1px 1px);clip: rect(1px, 1px, 1px, 1px);height: 1px;margin: -1px;overflow: hidden;padding: 0;position: absolute;width: 1px;}#sk-container-id-1 div.sk-estimator {font-family: monospace;background-color: #f0f8ff;border: 1px dotted black;border-radius: 0.25em;box-sizing: border-box;margin-bottom: 0.5em;}#sk-container-id-1 div.sk-estimator:hover {background-color: #d4ebff;}#sk-container-id-1 div.sk-parallel-item::after {content: \"\";width: 100%;border-bottom: 1px solid gray;flex-grow: 1;}#sk-container-id-1 div.sk-label:hover label.sk-toggleable__label {background-color: #d4ebff;}#sk-container-id-1 div.sk-serial::before {content: \"\";position: absolute;border-left: 1px solid gray;box-sizing: border-box;top: 0;bottom: 0;left: 50%;z-index: 0;}#sk-container-id-1 div.sk-serial {display: flex;flex-direction: column;align-items: center;background-color: white;padding-right: 0.2em;padding-left: 0.2em;position: relative;}#sk-container-id-1 div.sk-item {position: relative;z-index: 1;}#sk-container-id-1 div.sk-parallel {display: flex;align-items: stretch;justify-content: center;background-color: white;position: relative;}#sk-container-id-1 div.sk-item::before, #sk-container-id-1 div.sk-parallel-item::before {content: \"\";position: absolute;border-left: 1px solid gray;box-sizing: border-box;top: 0;bottom: 0;left: 50%;z-index: -1;}#sk-container-id-1 div.sk-parallel-item {display: flex;flex-direction: column;z-index: 1;position: relative;background-color: white;}#sk-container-id-1 div.sk-parallel-item:first-child::after {align-self: flex-end;width: 50%;}#sk-container-id-1 div.sk-parallel-item:last-child::after {align-self: flex-start;width: 50%;}#sk-container-id-1 div.sk-parallel-item:only-child::after {width: 0;}#sk-container-id-1 div.sk-dashed-wrapped {border: 1px dashed gray;margin: 0 0.4em 0.5em 0.4em;box-sizing: border-box;padding-bottom: 0.4em;background-color: white;}#sk-container-id-1 div.sk-label label {font-family: monospace;font-weight: bold;display: inline-block;line-height: 1.2em;}#sk-container-id-1 div.sk-label-container {text-align: center;}#sk-container-id-1 div.sk-container {/* jupyter's `normalize.less` sets `[hidden] { display: none; }` but bootstrap.min.css set `[hidden] { display: none !important; }` so we also need the `!important` here to be able to override the default hidden behavior on the sphinx rendered scikit-learn.org. See: https://github.com/scikit-learn/scikit-learn/issues/21755 */display: inline-block !important;position: relative;}#sk-container-id-1 div.sk-text-repr-fallback {display: none;}</style><div id=\"sk-container-id-1\" class=\"sk-top-container\"><div class=\"sk-text-repr-fallback\"><pre>XGBRegressor(base_score=0.5, booster=&#x27;gbtree&#x27;, callbacks=None,\n",
       "             colsample_bylevel=1, colsample_bynode=1, colsample_bytree=1,\n",
       "             early_stopping_rounds=None, enable_categorical=False,\n",
       "             eval_metric=None, gamma=0, gpu_id=-1, grow_policy=&#x27;depthwise&#x27;,\n",
       "             importance_type=None, interaction_constraints=&#x27;&#x27;,\n",
       "             learning_rate=0.300000012, max_bin=256, max_cat_to_onehot=4,\n",
       "             max_delta_step=0, max_depth=6, max_leaves=0, min_child_weight=1,\n",
       "             missing=nan, monotone_constraints=&#x27;()&#x27;, n_estimators=100, n_jobs=0,\n",
       "             num_parallel_tree=1, predictor=&#x27;auto&#x27;, random_state=0, reg_alpha=0,\n",
       "             reg_lambda=1, ...)</pre><b>In a Jupyter environment, please rerun this cell to show the HTML representation or trust the notebook. <br />On GitHub, the HTML representation is unable to render, please try loading this page with nbviewer.org.</b></div><div class=\"sk-container\" hidden><div class=\"sk-item\"><div class=\"sk-estimator sk-toggleable\"><input class=\"sk-toggleable__control sk-hidden--visually\" id=\"sk-estimator-id-1\" type=\"checkbox\" checked><label for=\"sk-estimator-id-1\" class=\"sk-toggleable__label sk-toggleable__label-arrow\">XGBRegressor</label><div class=\"sk-toggleable__content\"><pre>XGBRegressor(base_score=0.5, booster=&#x27;gbtree&#x27;, callbacks=None,\n",
       "             colsample_bylevel=1, colsample_bynode=1, colsample_bytree=1,\n",
       "             early_stopping_rounds=None, enable_categorical=False,\n",
       "             eval_metric=None, gamma=0, gpu_id=-1, grow_policy=&#x27;depthwise&#x27;,\n",
       "             importance_type=None, interaction_constraints=&#x27;&#x27;,\n",
       "             learning_rate=0.300000012, max_bin=256, max_cat_to_onehot=4,\n",
       "             max_delta_step=0, max_depth=6, max_leaves=0, min_child_weight=1,\n",
       "             missing=nan, monotone_constraints=&#x27;()&#x27;, n_estimators=100, n_jobs=0,\n",
       "             num_parallel_tree=1, predictor=&#x27;auto&#x27;, random_state=0, reg_alpha=0,\n",
       "             reg_lambda=1, ...)</pre></div></div></div></div></div>"
      ],
      "text/plain": [
       "XGBRegressor(base_score=0.5, booster='gbtree', callbacks=None,\n",
       "             colsample_bylevel=1, colsample_bynode=1, colsample_bytree=1,\n",
       "             early_stopping_rounds=None, enable_categorical=False,\n",
       "             eval_metric=None, gamma=0, gpu_id=-1, grow_policy='depthwise',\n",
       "             importance_type=None, interaction_constraints='',\n",
       "             learning_rate=0.300000012, max_bin=256, max_cat_to_onehot=4,\n",
       "             max_delta_step=0, max_depth=6, max_leaves=0, min_child_weight=1,\n",
       "             missing=nan, monotone_constraints='()', n_estimators=100, n_jobs=0,\n",
       "             num_parallel_tree=1, predictor='auto', random_state=0, reg_alpha=0,\n",
       "             reg_lambda=1, ...)"
      ]
     },
     "execution_count": 133,
     "metadata": {},
     "output_type": "execute_result"
    }
   ],
   "source": [
    "xgb = xgboost.XGBRegressor()\n",
    "xgb.fit(X_train,y_train)"
   ]
  },
  {
   "cell_type": "code",
   "execution_count": 137,
   "metadata": {},
   "outputs": [],
   "source": [
    "pred2=xgb.predict(X_test)\n",
    "print('Mean Squared Error',mean_squared_error(y_test,pred2))"
   ]
  },
  {
   "cell_type": "code",
   "execution_count": 135,
   "metadata": {},
   "outputs": [],
   "source": [
    "from sklearn.ensemble import AdaBoostRegressor"
   ]
  },
  {
   "cell_type": "code",
   "execution_count": 138,
   "metadata": {},
   "outputs": [],
   "source": [
    "ada = AdaBoostRegressor()\n",
    "ada.fit(X_train,y_train)\n",
    "pred3 = ada.predict(X_test)\n",
    "print('Mean Squared Error',mean_squared_error(y_test,pred3))"
   ]
  },
  {
   "cell_type": "markdown",
   "metadata": {},
   "source": [
    "<div style=\"font-family:verdana; word-spacing:1.5px;\"><h2><center style=\"color:#159364; font-family:cursive;\"> COnclusion </br> Among the 3 classifiers namely RandomForest, Adaboost and XGboost the RandomForest gives the least error|</center></h1></div>"
   ]
  }
 ],
 "metadata": {
  "colab": {
   "name": "IDS Group 138 Assignment BSE Prediction.ipynb",
   "provenance": []
  },
  "kernelspec": {
   "display_name": "Python 3 (ipykernel)",
   "language": "python",
   "name": "python3"
  },
  "language_info": {
   "codemirror_mode": {
    "name": "ipython",
    "version": 3
   },
   "file_extension": ".py",
   "mimetype": "text/x-python",
   "name": "python",
   "nbconvert_exporter": "python",
   "pygments_lexer": "ipython3",
   "version": "3.9.12"
  }
 },
 "nbformat": 4,
 "nbformat_minor": 1
}
